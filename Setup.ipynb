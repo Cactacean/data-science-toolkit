{
  "nbformat": 4,
  "nbformat_minor": 0,
  "metadata": {
    "colab": {
      "provenance": [],
      "authorship_tag": "ABX9TyOSxu1mpxmodaL789HlHAOe",
      "include_colab_link": true
    },
    "kernelspec": {
      "name": "python3",
      "display_name": "Python 3"
    },
    "language_info": {
      "name": "python"
    }
  },
  "cells": [
    {
      "cell_type": "markdown",
      "metadata": {
        "id": "view-in-github",
        "colab_type": "text"
      },
      "source": [
        "<a href=\"https://colab.research.google.com/github/Cactacean/data-science-toolkit/blob/main/Setup.ipynb\" target=\"_parent\"><img src=\"https://colab.research.google.com/assets/colab-badge.svg\" alt=\"Open In Colab\"/></a>"
      ]
    },
    {
      "cell_type": "code",
      "execution_count": null,
      "metadata": {
        "id": "p4gT1uXJ43va"
      },
      "outputs": [],
      "source": [
        "from google.colab import drive\n",
        "drive.mount('/content/drive')\n",
        "%cd /content/drive/MyDrive\n",
        "!mkdir -p git_repos\n",
        "%cd git_repos\n",
        "\n",
        "# provide url of repository that you want to clone\n",
        "!git clone https://github.com/Cactacean/data-science-toolkit/blob/main/python_basics.ipynb\n",
        "\n",
        "# The above comman will create a folder with name same as your github repo (e.g. data-science-toolkit)\n",
        "# get to that folder by using following command\n",
        "%cd data-science-toolkit/\n",
        "\n",
        "# Configure git using yout github email and user name\n",
        "!git config --global user.email \"23113456@siswa.um.edu.my\"\n",
        "!git config --global user.name \"Cactacean\""
      ]
    }
  ]
}